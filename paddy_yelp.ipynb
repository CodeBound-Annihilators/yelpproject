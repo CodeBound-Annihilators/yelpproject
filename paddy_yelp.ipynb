{
 "cells": [
  {
   "cell_type": "code",
   "execution_count": 1,
   "metadata": {},
   "outputs": [],
   "source": [
    "import requests\n",
    "import get_my_key\n",
    "import pandas as pd\n",
    "import numpy as np\n",
    "from pandas.io.json import json_normalize\n",
    "import ast"
   ]
  },
  {
   "cell_type": "code",
   "execution_count": 2,
   "metadata": {},
   "outputs": [],
   "source": [
    "#Client ID\n",
    "Client_ID = '8686c761d3182d6d8499bf7ef711556921f22a2b'"
   ]
  },
  {
   "cell_type": "code",
   "execution_count": 3,
   "metadata": {},
   "outputs": [],
   "source": [
    "api_key = get_my_key.api_key()\n",
    "endpoint = 'https://api.yelp.com/v3/businesses/search'\n",
    "headers = {'Authorization' : 'Bearer %s' % api_key}"
   ]
  },
  {
   "cell_type": "code",
   "execution_count": 4,
   "metadata": {},
   "outputs": [],
   "source": [
    "parameters = {'limit': 50,\n",
    "    'location': 'San Antonio'}"
   ]
  },
  {
   "cell_type": "code",
   "execution_count": 5,
   "metadata": {},
   "outputs": [],
   "source": [
    "response = requests.get(url = endpoint, params = parameters, headers = headers)\n",
    "business_data = response.json()"
   ]
  },
  {
   "cell_type": "code",
   "execution_count": 6,
   "metadata": {},
   "outputs": [
    {
     "ename": "KeyError",
     "evalue": "'total'",
     "output_type": "error",
     "traceback": [
      "\u001b[0;31m---------------------------------------------------------------------------\u001b[0m",
      "\u001b[0;31mKeyError\u001b[0m                                  Traceback (most recent call last)",
      "\u001b[0;32m<ipython-input-6-90ad53f68d3f>\u001b[0m in \u001b[0;36m<module>\u001b[0;34m\u001b[0m\n\u001b[0;32m----> 1\u001b[0;31m \u001b[0mbusiness_data\u001b[0m\u001b[0;34m[\u001b[0m\u001b[0;34m'total'\u001b[0m\u001b[0;34m]\u001b[0m\u001b[0;34m\u001b[0m\u001b[0;34m\u001b[0m\u001b[0m\n\u001b[0m",
      "\u001b[0;31mKeyError\u001b[0m: 'total'"
     ]
    }
   ],
   "source": [
    "business_data['total']"
   ]
  },
  {
   "cell_type": "code",
   "execution_count": null,
   "metadata": {},
   "outputs": [],
   "source": [
    "categories = '''mexican'''"
   ]
  },
  {
   "cell_type": "code",
   "execution_count": null,
   "metadata": {},
   "outputs": [],
   "source": [
    "categories = '''\n",
    "afghani\n",
    "african\n",
    "newamerican\n",
    "tradamerican\n",
    "andalusian\n",
    "arabian\n",
    "argentine\n",
    "armenian\n",
    "asianfusion\n",
    "asturian\n",
    "australian\n",
    "austrian\n",
    "baguettes\n",
    "bangladeshi\n",
    "bbq\n",
    "basque\n",
    "bavarian\n",
    "beergarden\n",
    "beerhall\n",
    "beisl\n",
    "belgian\n",
    "bistros\n",
    "blacksea\n",
    "brasseries\n",
    "brazilian\n",
    "breakfast_brunch\n",
    "british\n",
    "buffets\n",
    "bulgarian\n",
    "burgers\n",
    "burmese\n",
    "cafes\n",
    "themedcafes\n",
    "cafeteria\n",
    "cajun\n",
    "cambodian\n",
    "newcanadian\n",
    "canteen\n",
    "caribbean\n",
    "catalan\n",
    "cheesesteaks\n",
    "chickenshop\n",
    "chicken_wings\n",
    "chilean\n",
    "chinese\n",
    "comfortfood\n",
    "corsican\n",
    "creperies\n",
    "cuban\n",
    "currysausage\n",
    "cypriot\n",
    "czech\n",
    "czechslovakian\n",
    "danish\n",
    "delis\n",
    "diners\n",
    "dinnertheater\n",
    "dumplings\n",
    "eastern_european\n",
    "eritrean\n",
    "ethiopian\n",
    "hotdogs\n",
    "filipino\n",
    "fischbroetchen\n",
    "fishnchips\n",
    "flatbread\n",
    "fondue\n",
    "food_court\n",
    "foodstands\n",
    "freiduria\n",
    "french\n",
    "sud_ouest\n",
    "galician\n",
    "gamemeat\n",
    "gastropubs\n",
    "georgian\n",
    "german\n",
    "giblets\n",
    "gluten_free\n",
    "greek\n",
    "guamanian\n",
    "halal\n",
    "hawaiian\n",
    "heuriger\n",
    "himalayan\n",
    "honduran\n",
    "hkcafe\n",
    "hotdog\n",
    "hotpot\n",
    "hungarian\n",
    "iberian\n",
    "indpak\n",
    "indonesian\n",
    "international\n",
    "irish\n",
    "island_pub\n",
    "israeli\n",
    "italian\n",
    "japanese\n",
    "jewish\n",
    "kebab\n",
    "kopitiam\n",
    "korean\n",
    "kosher\n",
    "kurdish\n",
    "laos\n",
    "laotian\n",
    "latin\n",
    "raw_food\n",
    "lyonnais\n",
    "malaysian\n",
    "meatballs\n",
    "mediterranean\n",
    "mexican\n",
    "mideastern\n",
    "milkbars\n",
    "modern_australian\n",
    "modern_european\n",
    "mongolian\n",
    "moroccan\n",
    "newmexican\n",
    "newzealand\n",
    "nicaraguan\n",
    "nightfood\n",
    "nikkei\n",
    "noodles\n",
    "norcinerie\n",
    "opensandwiches\n",
    "oriental\n",
    "pfcomercial\n",
    "pakistani\n",
    "panasian\n",
    "eltern_cafes\n",
    "parma\n",
    "persian\n",
    "peruvian\n",
    "pita\n",
    "pizza\n",
    "polish\n",
    "polynesian\n",
    "popuprestaurants\n",
    "portuguese\n",
    "potatoes\n",
    "poutineries\n",
    "pubfood\n",
    "riceshop\n",
    "romanian\n",
    "rotisserie_chicken\n",
    "russian\n",
    "salad\n",
    "sandwiches\n",
    "scandinavian\n",
    "schnitzel\n",
    "scottish\n",
    "seafood\n",
    "serbocroatian\n",
    "signature_cuisine\n",
    "singaporean\n",
    "slovakian\n",
    "somali\n",
    "soulfood\n",
    "soup\n",
    "southern\n",
    "spanish\n",
    "srilankan\n",
    "steak\n",
    "supperclubs\n",
    "sushi\n",
    "swabian\n",
    "swedish\n",
    "swissfood\n",
    "syrian\n",
    "tabernas\n",
    "taiwanese\n",
    "tapas\n",
    "tapasmallplates\n",
    "tavolacalda\n",
    "tex-mex\n",
    "thai\n",
    "norwegian\n",
    "traditional_swedish\n",
    "trattorie\n",
    "turkish\n",
    "ukrainian\n",
    "uzbek\n",
    "vegan\n",
    "vegetarian\n",
    "venison\n",
    "vietnamese\n",
    "waffles\n",
    "wok\n",
    "wraps\n",
    "yugoslav\n",
    "food\n",
    "hotelstravel\n",
    "bedbreakfast\n",
    "foodtours\n",
    "nightlife\n",
    "bars\n",
    "religiousorgs\n",
    "'''"
   ]
  },
  {
   "cell_type": "code",
   "execution_count": null,
   "metadata": {},
   "outputs": [],
   "source": [
    "categories = categories.split()\n",
    "categories"
   ]
  },
  {
   "cell_type": "code",
   "execution_count": null,
   "metadata": {},
   "outputs": [],
   "source": [
    "def search_restaurants(offset_num, category): \n",
    "# This function launches the request for all restaurants in San Antonio, Tx.\n",
    "    url = 'https://api.yelp.com/v3/businesses/search'\n",
    "    headers = {\n",
    "        'Authorization': 'Bearer %s'% api_key,\n",
    "    }\n",
    "    url_params = { #parameters passed to the API\n",
    "        \"location\":\"San Antonio\",\n",
    "        \"state\": \"Texas\",\n",
    "        \"categories\": category,\n",
    "        'offset': offset_num, # We are going to iterate the offset\n",
    "         \"limit\": 50 # Maximum return of results per request (ref: API documentation).\n",
    "     }\n",
    "\n",
    "    response = requests.get(url, headers=headers, params=url_params)\n",
    "    return response.json() # Returns a JSON."
   ]
  },
  {
   "cell_type": "code",
   "execution_count": null,
   "metadata": {},
   "outputs": [],
   "source": [
    "responses = []\n",
    "for category in categories:\n",
    "    for offset_num in np.arange(0,1000,50):\n",
    "        result = search_restaurants(offset_num, category)\n",
    "        print(result) # make sure function is working correctly\n",
    "        responses.append(result)"
   ]
  },
  {
   "cell_type": "code",
   "execution_count": null,
   "metadata": {},
   "outputs": [],
   "source": [
    "len(responses)"
   ]
  },
  {
   "cell_type": "code",
   "execution_count": null,
   "metadata": {},
   "outputs": [],
   "source": [
    "columns = ['alias', 'categories', 'coordinates', 'display_phone', 'id', 'image_url', 'is_closed', 'location', 'name', 'phone', 'price', 'rating', 'review_count', 'transactions', 'url']"
   ]
  },
  {
   "cell_type": "code",
   "execution_count": null,
   "metadata": {},
   "outputs": [],
   "source": [
    "df = pd.DataFrame(columns=columns)"
   ]
  },
  {
   "cell_type": "code",
   "execution_count": null,
   "metadata": {},
   "outputs": [],
   "source": [
    "for response in range(4000):\n",
    "    print(responses[response]['businesses'])\n",
    "    df1 = pd.DataFrame(responses[response]['businesses'])\n",
    "    df = df.append(df1)"
   ]
  },
  {
   "cell_type": "code",
   "execution_count": null,
   "metadata": {},
   "outputs": [],
   "source": [
    "# df.to_csv(\"rate_limited_4000_restaurants.csv\", index = False)"
   ]
  }
 ],
 "metadata": {
  "kernelspec": {
   "display_name": "Python 3",
   "language": "python",
   "name": "python3"
  },
  "language_info": {
   "codemirror_mode": {
    "name": "ipython",
    "version": 3
   },
   "file_extension": ".py",
   "mimetype": "text/x-python",
   "name": "python",
   "nbconvert_exporter": "python",
   "pygments_lexer": "ipython3",
   "version": "3.7.3"
  }
 },
 "nbformat": 4,
 "nbformat_minor": 2
}
